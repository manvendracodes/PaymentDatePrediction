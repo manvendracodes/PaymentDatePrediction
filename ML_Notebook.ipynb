{
 "cells": [
  {
   "cell_type": "markdown",
   "metadata": {
    "id": "IWKb7dnKdHbh"
   },
   "source": [
    "### **IMPORTING LIBRARIES**"
   ]
  },
  {
   "cell_type": "code",
   "execution_count": 1,
   "metadata": {
    "id": "5uxTKxBolqX7"
   },
   "outputs": [],
   "source": [
    "#Importing Libraries\n",
    "import numpy as np\n",
    "import pandas as pd\n",
    "import matplotlib.pyplot as plt\n",
    "%matplotlib inline\n",
    "import seaborn as sns\n",
    "import warnings\n",
    "from datetime import timedelta\n",
    "import random\n",
    "warnings.filterwarnings(\"ignore\")"
   ]
  },
  {
   "cell_type": "markdown",
   "metadata": {
    "id": "RMPUsYKKZjKi"
   },
   "source": [
    "### **DATA PREPROCESSING**"
   ]
  },
  {
   "cell_type": "code",
   "execution_count": 2,
   "metadata": {
    "id": "xTrMp6HXlxFz"
   },
   "outputs": [],
   "source": [
    "#Importing the Dataset\n",
    "dataset = pd.read_csv('1804105.csv')\n",
    "df = dataset.copy()"
   ]
  },
  {
   "cell_type": "code",
   "execution_count": 3,
   "metadata": {
    "colab": {
     "base_uri": "https://localhost:8080/"
    },
    "id": "iFxCI-WT60jJ",
    "outputId": "52d3b434-950a-4aa8-a3af-1ca421446875"
   },
   "outputs": [
    {
     "data": {
      "text/plain": [
       "business_code                 6\n",
       "cust_number                1447\n",
       "name_customer              4291\n",
       "clear_date                  394\n",
       "buisness_year                 2\n",
       "doc_id                    50000\n",
       "posting_date                501\n",
       "document_create_date        506\n",
       "document_create_date.1      502\n",
       "due_in_date                 540\n",
       "invoice_currency              2\n",
       "document type                 2\n",
       "posting_id                    1\n",
       "area_business                 0\n",
       "total_open_amount         45177\n",
       "baseline_create_date        504\n",
       "cust_payment_terms           67\n",
       "invoice_id                49994\n",
       "isOpen                        2\n",
       "dtype: int64"
      ]
     },
     "execution_count": 3,
     "metadata": {},
     "output_type": "execute_result"
    }
   ],
   "source": [
    "#Observing columns with unique and constant values\n",
    "df.nunique()"
   ]
  },
  {
   "cell_type": "markdown",
   "metadata": {
    "id": "_l3AXjv-ABeA"
   },
   "source": [
    "1) Doc_id has unique values\n",
    "2) Invoice_id has almost unique values\n",
    "3) Area_Business has all null values\n",
    "4) Posting Id has only value"
   ]
  },
  {
   "cell_type": "code",
   "execution_count": 4,
   "metadata": {
    "colab": {
     "base_uri": "https://localhost:8080/"
    },
    "id": "6Dqz-ZhdRQ0q",
    "outputId": "a3222b21-3dfe-4cac-8eb5-2e9162396fac"
   },
   "outputs": [
    {
     "data": {
      "text/plain": [
       "0    45576\n",
       "1     4424\n",
       "Name: isOpen, dtype: int64"
      ]
     },
     "execution_count": 4,
     "metadata": {},
     "output_type": "execute_result"
    }
   ],
   "source": [
    "#Observing frequency distribution of isOpen\n",
    "df.isOpen.value_counts()"
   ]
  },
  {
   "cell_type": "code",
   "execution_count": 5,
   "metadata": {
    "id": "tKBYbReVquBn"
   },
   "outputs": [],
   "source": [
    "#Dropping these columns coz these contain noise like constant, unique values or not useful etc\n",
    "df.drop(columns=['area_business','posting_id','doc_id', 'document_create_date', 'invoice_id', 'isOpen'], axis = 1, inplace = True)"
   ]
  },
  {
   "cell_type": "markdown",
   "metadata": {
    "id": "-f0UG7gYAedj"
   },
   "source": [
    "We dropped document create date because we will only consider document create date.1 as it is in a normalized way"
   ]
  },
  {
   "cell_type": "code",
   "execution_count": 6,
   "metadata": {
    "colab": {
     "base_uri": "https://localhost:8080/"
    },
    "id": "BzfJwY0_7D4T",
    "outputId": "4d9c9e5b-9990-4110-d9dd-5bebe0418f9b"
   },
   "outputs": [
    {
     "data": {
      "text/plain": [
       "business_code                0\n",
       "cust_number                  0\n",
       "name_customer                0\n",
       "clear_date                4424\n",
       "buisness_year                0\n",
       "posting_date                 0\n",
       "document_create_date.1       0\n",
       "due_in_date                  0\n",
       "invoice_currency             0\n",
       "document type                0\n",
       "total_open_amount            0\n",
       "baseline_create_date         0\n",
       "cust_payment_terms           0\n",
       "dtype: int64"
      ]
     },
     "execution_count": 6,
     "metadata": {},
     "output_type": "execute_result"
    }
   ],
   "source": [
    "#Observing NULL values\n",
    "df.isna().sum()"
   ]
  },
  {
   "cell_type": "code",
   "execution_count": 7,
   "metadata": {
    "id": "DFeVN4gynXan"
   },
   "outputs": [],
   "source": [
    "#Storing rows with null values in clear date in another dataframe, we will play with these later.\n",
    "X_missing = df[df['clear_date'].isnull()].copy()\n",
    "missing_clear_date = df[df['clear_date'].isnull()].copy()"
   ]
  },
  {
   "cell_type": "code",
   "execution_count": 8,
   "metadata": {
    "id": "yVsRZ6iDqv43"
   },
   "outputs": [],
   "source": [
    "#Dropping the rows with Null values present in clear_date. These are the rows which are still open and yet to be paid\n",
    "df.dropna(subset=['clear_date'], inplace = True)"
   ]
  },
  {
   "cell_type": "code",
   "execution_count": 9,
   "metadata": {
    "colab": {
     "base_uri": "https://localhost:8080/"
    },
    "id": "ZAHqnQ1irtQB",
    "outputId": "ce674c03-dd3b-451f-cb79-43b9497042a7"
   },
   "outputs": [
    {
     "data": {
      "text/plain": [
       "business_code              object\n",
       "cust_number                object\n",
       "name_customer              object\n",
       "clear_date                 object\n",
       "buisness_year             float64\n",
       "posting_date               object\n",
       "document_create_date.1      int64\n",
       "due_in_date               float64\n",
       "invoice_currency           object\n",
       "document type              object\n",
       "total_open_amount         float64\n",
       "baseline_create_date      float64\n",
       "cust_payment_terms         object\n",
       "dtype: object"
      ]
     },
     "execution_count": 9,
     "metadata": {},
     "output_type": "execute_result"
    }
   ],
   "source": [
    "#Observing the datatypes of all columns\n",
    "df.dtypes"
   ]
  },
  {
   "cell_type": "code",
   "execution_count": 10,
   "metadata": {
    "id": "_VbKMzZHsEjz"
   },
   "outputs": [],
   "source": [
    "#Converting these columns to datetime \n",
    "df['clear_date'] = pd.to_datetime(df['clear_date'])\n",
    "df['due_in_date'] = pd.to_datetime(df['due_in_date'], format = '%Y%m%d')\n",
    "df['document_create_date.1'] = pd.to_datetime(df['document_create_date.1'], format = '%Y%m%d')\n",
    "df['posting_date'] = pd.to_datetime(df['posting_date'])\n",
    "df['baseline_create_date'] = pd.to_datetime(df['posting_date'])"
   ]
  },
  {
   "cell_type": "code",
   "execution_count": 11,
   "metadata": {
    "id": "PTBGObUpB-cf"
   },
   "outputs": [],
   "source": [
    "#Making the target Variable\n",
    "df['Delay'] = (df['clear_date'] - df['due_in_date']).dt.days"
   ]
  },
  {
   "cell_type": "code",
   "execution_count": 12,
   "metadata": {
    "id": "wy0GiRXgrX2-"
   },
   "outputs": [],
   "source": [
    "#Sorting the entire dataset based on normalised document create date. We are doing this because we want the model to understand the patterns chronologically\n",
    "df = df.sort_values(by='document_create_date.1').reset_index(drop = True)"
   ]
  },
  {
   "cell_type": "code",
   "execution_count": 13,
   "metadata": {
    "id": "Fjw-imYvqTba"
   },
   "outputs": [],
   "source": [
    "#Splitting the dataset into training set and test set\n",
    "from sklearn.model_selection import train_test_split\n",
    "X, X_test, y, y_test = train_test_split(df.drop(columns=['Delay'], axis = 1), df['Delay'], test_size=0.2, shuffle=False)"
   ]
  },
  {
   "cell_type": "code",
   "execution_count": 14,
   "metadata": {
    "id": "VSdxudjvwNMb"
   },
   "outputs": [],
   "source": [
    "#Splitting the training set into validation and real training set\n",
    "X_train, X_validation, y_train, y_validation = train_test_split(X, y, test_size = 0.17, shuffle=False)"
   ]
  },
  {
   "cell_type": "code",
   "execution_count": 15,
   "metadata": {
    "colab": {
     "base_uri": "https://localhost:8080/"
    },
    "id": "WCZqGhc8vWf4",
    "outputId": "3b2ccf38-66d4-4fd1-a93a-8587b8b0ccfa"
   },
   "outputs": [
    {
     "name": "stdout",
     "output_type": "stream",
     "text": [
      "(30261, 13)\n",
      "(30261,)\n",
      "(6199, 13)\n",
      "(6199,)\n",
      "(9116, 13)\n",
      "(9116,)\n"
     ]
    }
   ],
   "source": [
    "#Observing Our split\n",
    "print(X_train.shape)\n",
    "print(y_train.shape)\n",
    "print(X_validation.shape)\n",
    "print(y_validation.shape)\n",
    "print(X_test.shape)\n",
    "print(y_test.shape)"
   ]
  },
  {
   "cell_type": "markdown",
   "metadata": {
    "id": "3HKR37S-lunu"
   },
   "source": [
    "### **EDA**"
   ]
  },
  {
   "cell_type": "code",
   "execution_count": 16,
   "metadata": {
    "colab": {
     "base_uri": "https://localhost:8080/"
    },
    "id": "n0W2nc2KzzKR",
    "outputId": "b1514432-d408-4c53-9a08-ff078ed6fc85"
   },
   "outputs": [
    {
     "name": "stdout",
     "output_type": "stream",
     "text": [
      "USD    27837\n",
      "CAD     2424\n",
      "Name: invoice_currency, dtype: int64\n"
     ]
    }
   ],
   "source": [
    "#Analyzing Invoice currency\n",
    "print(X_train.invoice_currency.value_counts())"
   ]
  },
  {
   "cell_type": "markdown",
   "metadata": {
    "id": "MR_HdVeERxfY"
   },
   "source": [
    "Present in two categories, can be labelencoded"
   ]
  },
  {
   "cell_type": "code",
   "execution_count": 17,
   "metadata": {
    "colab": {
     "base_uri": "https://localhost:8080/",
     "height": 343
    },
    "id": "PoIhEWxh0k83",
    "outputId": "fd9edd83-2f9e-4f13-aca3-876b23828c40"
   },
   "outputs": [
    {
     "name": "stdout",
     "output_type": "stream",
     "text": [
      "2.7211739759093945\n",
      "12.836152198657608\n"
     ]
    },
    {
     "data": {
      "text/plain": [
       "<AxesSubplot:xlabel='total_open_amount', ylabel='Density'>"
      ]
     },
     "execution_count": 17,
     "metadata": {},
     "output_type": "execute_result"
    },
    {
     "data": {
      "image/png": "[encoded data removed]",
      "text/plain": [
       "<Figure size 432x288 with 1 Axes>"
      ]
     },
     "metadata": {
      "needs_background": "light"
     },
     "output_type": "display_data"
    }
   ],
   "source": [
    "#Lets Analyze Total open amount variable\n",
    "print(X_train.total_open_amount.skew())\n",
    "print(X_train.total_open_amount.kurtosis())\n",
    "sns.distplot(X_train['total_open_amount'])"
   ]
  },
  {
   "cell_type": "markdown",
   "metadata": {
    "id": "pGQjjHtoAI0K"
   },
   "source": [
    "It is showing high positive skew and highly Leptokurtic. Lets fix that"
   ]
  },
  {
   "cell_type": "code",
   "execution_count": 18,
   "metadata": {
    "colab": {
     "base_uri": "https://localhost:8080/",
     "height": 333
    },
    "id": "ijRTS-0gEAwI",
    "outputId": "19de179c-16b8-4961-e095-ab6f9fe0c7f8"
   },
   "outputs": [
    {
     "name": "stdout",
     "output_type": "stream",
     "text": [
      "-0.9292814167008404\n",
      "0.4604870226993496\n"
     ]
    },
    {
     "data": {
      "text/plain": [
       "<AxesSubplot:xlabel='total_open_amount', ylabel='Density'>"
      ]
     },
     "execution_count": 18,
     "metadata": {},
     "output_type": "execute_result"
    },
    {
     "data": {
      "image/png": "[encoded data removed]",
      "text/plain": [
       "<Figure size 432x288 with 1 Axes>"
      ]
     },
     "metadata": {
      "needs_background": "light"
     },
     "output_type": "display_data"
    }
   ],
   "source": [
    "#Log transforming and observing results\n",
    "normalised_open_amount = np.log(X_train.total_open_amount)\n",
    "print(normalised_open_amount.skew())\n",
    "print(normalised_open_amount.kurtosis())\n",
    "sns.distplot(normalised_open_amount)"
   ]
  },
  {
   "cell_type": "markdown",
   "metadata": {
    "id": "rSlopbUeiGiD"
   },
   "source": [
    "Now it is looking way better. Skew value and kurtosis value lie in an acceptable range. So we will log transform open amount of all X sets.\n"
   ]
  },
  {
   "cell_type": "code",
   "execution_count": 19,
   "metadata": {
    "id": "JciBkk9QPkj6"
   },
   "outputs": [],
   "source": [
    "#Converting the values of total open amount of all the X_sets and adding 2 to remove negative values\n",
    "X_train['total_open_amount'] = np.log(X_train['total_open_amount']) + 2\n",
    "X_validation['total_open_amount'] = np.log(X_validation['total_open_amount']) + 2\n",
    "X_test['total_open_amount'] = np.log(X_test['total_open_amount']) + 2"
   ]
  },
  {
   "cell_type": "code",
   "execution_count": 20,
   "metadata": {
    "colab": {
     "base_uri": "https://localhost:8080/"
    },
    "id": "ymYt-Aw41Rtt",
    "outputId": "0266f716-4b99-4254-d0ef-c6dd31b14a2b"
   },
   "outputs": [
    {
     "name": "stdout",
     "output_type": "stream",
     "text": [
      "0.13147545572289307\n",
      "0.006255468006694228\n"
     ]
    }
   ],
   "source": [
    "#Analyzing the covariances of columns and target\n",
    "print(y_train.cov(X_train.total_open_amount))\n",
    "print(X_train.total_open_amount.corr(y_train))"
   ]
  },
  {
   "cell_type": "code",
   "execution_count": 21,
   "metadata": {
    "colab": {
     "base_uri": "https://localhost:8080/"
    },
    "id": "Gx1gAC_1VyQ4",
    "outputId": "d470f956-f5d4-442f-f2b3-6dbdb96e0e31"
   },
   "outputs": [
    {
     "data": {
      "text/plain": [
       "NAA8    12057\n",
       "NAH4     7940\n",
       "CA10     2360\n",
       "NAC6     1041\n",
       "NAM4      830\n",
       "NAAX      746\n",
       "NAG2      614\n",
       "NAU5      567\n",
       "NAGD      556\n",
       "NAD1      545\n",
       "NAX2      449\n",
       "NA32      420\n",
       "NAM2      330\n",
       "NA10      254\n",
       "NAD5      240\n",
       "NAVF      180\n",
       "NAM1      163\n",
       "NAVE      152\n",
       "NAAW      136\n",
       "NAWN      116\n",
       "NAVR       97\n",
       "NAVQ       80\n",
       "NAUZ       58\n",
       "NAWP       38\n",
       "NACB       32\n",
       "NA3B       28\n",
       "NAVM       28\n",
       "CA30       23\n",
       "NA38       15\n",
       "NABG       15\n",
       "NAVL       15\n",
       "NAB1       14\n",
       "NA9X       12\n",
       "C106       11\n",
       "BR56       10\n",
       "NAWU        9\n",
       "NA84        9\n",
       "NAD4        9\n",
       "NA3F        9\n",
       "NAUP        5\n",
       "NA25        5\n",
       "NAM3        5\n",
       "NAVD        5\n",
       "NATU        4\n",
       "NATM        4\n",
       "NA31        4\n",
       "BR12        3\n",
       "NATH        3\n",
       "NAUX        2\n",
       "NAVC        2\n",
       "NATL        2\n",
       "NANC        2\n",
       "NAV2        2\n",
       "NAD8        1\n",
       "NAUI        1\n",
       "CAB1        1\n",
       "B030        1\n",
       "NATJ        1\n",
       "Name: cust_payment_terms, dtype: int64"
      ]
     },
     "execution_count": 21,
     "metadata": {},
     "output_type": "execute_result"
    }
   ],
   "source": [
    "#Observing cust payment terms value counts\n",
    "X_train.cust_payment_terms.value_counts()"
   ]
  },
  {
   "cell_type": "markdown",
   "metadata": {
    "id": "6GPnYUV0WGvF"
   },
   "source": [
    "NAA8 and NAH4 have high occurences. Rest of the catergories not so much. Rest can be binned in an 'OTHERS' category."
   ]
  },
  {
   "cell_type": "code",
   "execution_count": 22,
   "metadata": {
    "colab": {
     "base_uri": "https://localhost:8080/"
    },
    "id": "h0rlUVrwV-HW",
    "outputId": "5da55e1c-2ee6-4e47-a27c-313b3046e4d6"
   },
   "outputs": [
    {
     "data": {
      "text/plain": [
       "U001    27328\n",
       "CA02     2424\n",
       "U013      411\n",
       "U002       89\n",
       "U005        8\n",
       "U007        1\n",
       "Name: business_code, dtype: int64"
      ]
     },
     "execution_count": 22,
     "metadata": {},
     "output_type": "execute_result"
    }
   ],
   "source": [
    "#Observing Buisness code\n",
    "X_train.business_code.value_counts()"
   ]
  },
  {
   "cell_type": "markdown",
   "metadata": {
    "id": "mcXy0QK9WeX3"
   },
   "source": [
    "U001 has very high occurences. Rest of the categories not so much. Rest can be binned in an 'OTHERS' category."
   ]
  },
  {
   "cell_type": "code",
   "execution_count": 23,
   "metadata": {
    "colab": {
     "base_uri": "https://localhost:8080/"
    },
    "id": "mvevTuvqnEe0",
    "outputId": "8f79b48c-311d-4033-bba7-d3b5fb4fa670"
   },
   "outputs": [
    {
     "data": {
      "text/plain": [
       "RV    30255\n",
       "X2        6\n",
       "Name: document type, dtype: int64"
      ]
     },
     "execution_count": 23,
     "metadata": {},
     "output_type": "execute_result"
    }
   ],
   "source": [
    "#Observing doc type\n",
    "X_train['document type'].value_counts()"
   ]
  },
  {
   "cell_type": "markdown",
   "metadata": {
    "id": "B3pVSxi6nX_Y"
   },
   "source": [
    "This should be dropped because frequency of one category out of the two is very low. Pointless feature"
   ]
  },
  {
   "cell_type": "markdown",
   "metadata": {
    "id": "4xWqpP_HT0fw"
   },
   "source": [
    "### **FEATURE ENGINEERING**"
   ]
  },
  {
   "cell_type": "code",
   "execution_count": 24,
   "metadata": {
    "id": "tCKQALxPse6w"
   },
   "outputs": [],
   "source": [
    "#Dropping these columns because they are useless features in my opinion\n",
    "X_train.drop(columns=['cust_number','name_customer','clear_date', 'buisness_year', 'posting_date', 'document_create_date.1', 'document type', 'baseline_create_date'], axis = 1, inplace = True)\n",
    "X_validation.drop(columns=['cust_number','name_customer','clear_date', 'buisness_year', 'posting_date', 'document_create_date.1', 'document type', 'baseline_create_date'], axis = 1, inplace = True)\n",
    "X_test.drop(columns=['cust_number','name_customer','clear_date', 'buisness_year', 'posting_date', 'document_create_date.1', 'document type', 'baseline_create_date'], axis = 1, inplace = True)"
   ]
  },
  {
   "cell_type": "markdown",
   "metadata": {
    "id": "rVZr6GyjqQR8"
   },
   "source": [
    "Now, we need to encode the categorical column Cust payment terms.\n",
    "\n",
    "We will use frequency encoding. Replace the categories with their respective frequency divided by total sum of all categories.\n",
    "\n",
    "We will create 3 categories namely NAA8, NAH4 and others(all except NAA8 and NAH4)"
   ]
  },
  {
   "cell_type": "code",
   "execution_count": 25,
   "metadata": {
    "colab": {
     "base_uri": "https://localhost:8080/"
    },
    "id": "-MyOr9ympemT",
    "outputId": "5efa265b-569a-450d-e689-a5d71992d797"
   },
   "outputs": [
    {
     "data": {
      "text/plain": [
       "NAA8    0.398434\n",
       "NAH4    0.262384\n",
       "CA10    0.077988\n",
       "NAC6    0.034401\n",
       "NAM4    0.027428\n",
       "NAAX    0.024652\n",
       "NAG2    0.020290\n",
       "NAU5    0.018737\n",
       "NAGD    0.018373\n",
       "NAD1    0.018010\n",
       "NAX2    0.014838\n",
       "NA32    0.013879\n",
       "NAM2    0.010905\n",
       "NA10    0.008394\n",
       "NAD5    0.007931\n",
       "NAVF    0.005948\n",
       "NAM1    0.005386\n",
       "NAVE    0.005023\n",
       "NAAW    0.004494\n",
       "NAWN    0.003833\n",
       "NAVR    0.003205\n",
       "NAVQ    0.002644\n",
       "NAUZ    0.001917\n",
       "NAWP    0.001256\n",
       "NACB    0.001057\n",
       "NA3B    0.000925\n",
       "NAVM    0.000925\n",
       "CA30    0.000760\n",
       "NA38    0.000496\n",
       "NABG    0.000496\n",
       "NAVL    0.000496\n",
       "NAB1    0.000463\n",
       "NA9X    0.000397\n",
       "C106    0.000364\n",
       "BR56    0.000330\n",
       "NAWU    0.000297\n",
       "NA84    0.000297\n",
       "NAD4    0.000297\n",
       "NA3F    0.000297\n",
       "NAUP    0.000165\n",
       "NA25    0.000165\n",
       "NAM3    0.000165\n",
       "NAVD    0.000165\n",
       "NATU    0.000132\n",
       "NATM    0.000132\n",
       "NA31    0.000132\n",
       "BR12    0.000099\n",
       "NATH    0.000099\n",
       "NAUX    0.000066\n",
       "NAVC    0.000066\n",
       "NATL    0.000066\n",
       "NANC    0.000066\n",
       "NAV2    0.000066\n",
       "NAD8    0.000033\n",
       "NAUI    0.000033\n",
       "CAB1    0.000033\n",
       "B030    0.000033\n",
       "NATJ    0.000033\n",
       "Name: cust_payment_terms, dtype: float64"
      ]
     },
     "execution_count": 25,
     "metadata": {},
     "output_type": "execute_result"
    }
   ],
   "source": [
    "#Finding the cust payment terms frequency by sum values\n",
    "X_train.cust_payment_terms.value_counts()/X_train.cust_payment_terms.value_counts().sum()"
   ]
  },
  {
   "cell_type": "code",
   "execution_count": 26,
   "metadata": {
    "colab": {
     "base_uri": "https://localhost:8080/"
    },
    "id": "mkCUjNMIpoYJ",
    "outputId": "694daab9-7f00-4795-ff88-bf9c51eff023"
   },
   "outputs": [
    {
     "data": {
      "text/plain": [
       "0.39843362744126104"
      ]
     },
     "execution_count": 26,
     "metadata": {},
     "output_type": "execute_result"
    }
   ],
   "source": [
    "#Finding frequency by sum value for NAA8 \n",
    "(X_train.cust_payment_terms.value_counts()/X_train.cust_payment_terms.value_counts().sum()).iloc[:1].sum()"
   ]
  },
  {
   "cell_type": "code",
   "execution_count": 27,
   "metadata": {
    "colab": {
     "base_uri": "https://localhost:8080/"
    },
    "id": "YZkl8vHBptbC",
    "outputId": "d599f194-e262-4873-c42b-77425bd0c52e"
   },
   "outputs": [
    {
     "data": {
      "text/plain": [
       "0.2623839265060639"
      ]
     },
     "execution_count": 27,
     "metadata": {},
     "output_type": "execute_result"
    }
   ],
   "source": [
    "#Finding frequency by sum value for NAH4\n",
    "(X_train.cust_payment_terms.value_counts()/X_train.cust_payment_terms.value_counts().sum()).iloc[1:2].sum()"
   ]
  },
  {
   "cell_type": "code",
   "execution_count": 28,
   "metadata": {
    "colab": {
     "base_uri": "https://localhost:8080/"
    },
    "id": "Ey5oueBcpyby",
    "outputId": "0cf06331-e96d-485f-cd2f-94ca842e7098"
   },
   "outputs": [
    {
     "data": {
      "text/plain": [
       "0.3391824460526751"
      ]
     },
     "execution_count": 28,
     "metadata": {},
     "output_type": "execute_result"
    }
   ],
   "source": [
    "#Finding frequency by sum value for 'others' category(not including NAA8 and NAH4) \n",
    "(X_train.cust_payment_terms.value_counts()/X_train.cust_payment_terms.value_counts().sum()).iloc[2:].sum()"
   ]
  },
  {
   "cell_type": "markdown",
   "metadata": {
    "id": "gAvTuKJM091V"
   },
   "source": [
    "We will first encode these categories with a number(1:NAA8, 2:NAH4, 3:OTHERS)\n",
    "and then encode it with these values below\n",
    "\n",
    "cust_payment_terms encoder details\n",
    "1.   NAA8 = 1(0.4)\n",
    "2.   NAH4 = 2(0.26)\n",
    "3.   OTHERS = 3(0.34)\n",
    "\n"
   ]
  },
  {
   "cell_type": "code",
   "execution_count": 29,
   "metadata": {
    "colab": {
     "base_uri": "https://localhost:8080/"
    },
    "id": "FP0-ZuwS2WWp",
    "outputId": "94e2154a-ecb7-438e-cea1-cfec5a4dc455"
   },
   "outputs": [
    {
     "data": {
      "text/plain": [
       "{1: 0.4, 2: 0.26, 3: 0.34}"
      ]
     },
     "execution_count": 29,
     "metadata": {},
     "output_type": "execute_result"
    }
   ],
   "source": [
    "#Creating the cust_payment_terms encoder\n",
    "cust_payment_terms_encoder = {}\n",
    "cust_payment_terms_encoder[1], cust_payment_terms_encoder[2], cust_payment_terms_encoder[3] = 0.4, 0.26, 0.34\n",
    "cust_payment_terms_encoder"
   ]
  },
  {
   "cell_type": "code",
   "execution_count": 30,
   "metadata": {
    "id": "oJ0hk984457_"
   },
   "outputs": [],
   "source": [
    "#Encoding cust_payment_terms first with a number (1,2,3) and then mapping it with our dictionary\n",
    "X_train = X_train.assign(cust_payment_terms = np.where(np.logical_or(X_train.cust_payment_terms=='NAA8', X_train.cust_payment_terms=='NAH4'), X_train.cust_payment_terms, 3))\n",
    "X_train = X_train.assign(cust_payment_terms = np.where(X_train.cust_payment_terms == 'NAH4', 2, X_train.cust_payment_terms))\n",
    "X_train = X_train.assign(cust_payment_terms = np.where(X_train.cust_payment_terms == 'NAA8', 1, X_train.cust_payment_terms))\n",
    "X_train.cust_payment_terms = X_train.cust_payment_terms.map(cust_payment_terms_encoder) "
   ]
  },
  {
   "cell_type": "code",
   "execution_count": 31,
   "metadata": {
    "id": "rQn9J6Qewvm5"
   },
   "outputs": [],
   "source": [
    "#Doing the same change for X_test\n",
    "X_test = X_test.assign(cust_payment_terms = np.where(np.logical_or(X_test.cust_payment_terms=='NAA8', X_test.cust_payment_terms=='NAH4'), X_test.cust_payment_terms, 3))\n",
    "X_test = X_test.assign(cust_payment_terms = np.where(X_test.cust_payment_terms == 'NAH4', 2, X_test.cust_payment_terms))\n",
    "X_test = X_test.assign(cust_payment_terms = np.where(X_test.cust_payment_terms == 'NAA8', 1, X_test.cust_payment_terms))\n",
    "X_test.cust_payment_terms = X_test.cust_payment_terms.map(cust_payment_terms_encoder) "
   ]
  },
  {
   "cell_type": "code",
   "execution_count": 32,
   "metadata": {
    "id": "cxIcbJXs0KDq"
   },
   "outputs": [],
   "source": [
    "#Doing the same change for X_validation\n",
    "X_validation = X_validation.assign(cust_payment_terms = np.where(np.logical_or(X_validation.cust_payment_terms=='NAA8', X_validation.cust_payment_terms=='NAH4'), X_validation.cust_payment_terms, 3))\n",
    "X_validation = X_validation.assign(cust_payment_terms = np.where(X_validation.cust_payment_terms == 'NAH4', 2, X_validation.cust_payment_terms))\n",
    "X_validation = X_validation.assign(cust_payment_terms = np.where(X_validation.cust_payment_terms == 'NAA8', 1, X_validation.cust_payment_terms))\n",
    "X_validation.cust_payment_terms = X_validation.cust_payment_terms.map(cust_payment_terms_encoder) "
   ]
  },
  {
   "cell_type": "code",
   "execution_count": 33,
   "metadata": {
    "id": "sVTiU6t0AJsf"
   },
   "outputs": [],
   "source": [
    "#LabelEncoding invoice currency. (Only two categories, so labelencoding will make categories binary)\n",
    "from sklearn.preprocessing import LabelEncoder\n",
    "invoice_currency_encoder = LabelEncoder()\n",
    "X_train['invoice_currency'] = invoice_currency_encoder.fit_transform(X_train['invoice_currency'])\n",
    "X_validation['invoice_currency'] = invoice_currency_encoder.fit_transform(X_validation['invoice_currency'])\n",
    "X_test['invoice_currency'] = invoice_currency_encoder.transform(X_test['invoice_currency'])"
   ]
  },
  {
   "cell_type": "code",
   "execution_count": 34,
   "metadata": {
    "id": "CDj1eV2YwN7a"
   },
   "outputs": [],
   "source": [
    "#Creating the Features\n",
    "X_train['due_month'] = pd.DatetimeIndex(X_train['due_in_date']).month #Month of the due date\n",
    "X_train['due_weekday'] = X_train.due_in_date.dt.weekday #WeekDay of the due date\n",
    "X_train['due_week'] = X_train.due_in_date.dt.day//7 #Week of the month in due date\n",
    "X_train['isweekend'] = X_train.assign(Isweekend = np.where(np.logical_or(X_train.due_in_date.dt.weekday==5, X_train.due_in_date.dt.weekday==6), 1, 0)).Isweekend  #Weekends are encoded with 1 and not weekends 0\n",
    "X_train['business_code'] = X_train.assign(business_code = np.where(X_train.business_code == 'U001', 0, 1)).business_code #Encoding U001 with 0 and the rest with 1 as decided in the EDA phase.\n",
    "X_train.drop(columns=['due_in_date'], axis = 1, inplace = True) #Removing the Due date column from X_train"
   ]
  },
  {
   "cell_type": "code",
   "execution_count": 35,
   "metadata": {
    "id": "_tBDL6wV1CHa"
   },
   "outputs": [],
   "source": [
    "#Doing the same for X_test\n",
    "X_test['due_month'] = pd.DatetimeIndex(X_test['due_in_date']).month\n",
    "X_test['due_weekday'] = X_test.due_in_date.dt.weekday\n",
    "X_test['due_week'] = X_test.due_in_date.dt.day//7\n",
    "X_test['isweekend'] = X_test.assign(Isweekend = np.where(np.logical_or(X_test.due_in_date.dt.weekday==5, X_test.due_in_date.dt.weekday==6), 1, 0)).Isweekend\n",
    "X_test['business_code'] = X_test.assign(business_code = np.where(X_test.business_code == 'U001', 0, 1)).business_code\n",
    "X_test.drop(columns=['due_in_date'], axis = 1, inplace = True)"
   ]
  },
  {
   "cell_type": "code",
   "execution_count": 36,
   "metadata": {
    "id": "sU40jlY91eMy"
   },
   "outputs": [],
   "source": [
    "#Doing the same for X_validation\n",
    "X_validation['due_month'] = pd.DatetimeIndex(X_validation['due_in_date']).month\n",
    "X_validation['due_weekday'] = X_validation.due_in_date.dt.weekday\n",
    "X_validation['due_week'] = X_validation.due_in_date.dt.day//7\n",
    "X_validation['isweekend'] = X_validation.assign(Isweekend = np.where(np.logical_or(X_validation.due_in_date.dt.weekday==5, X_validation.due_in_date.dt.weekday==6), 1, 0)).Isweekend\n",
    "X_validation['business_code'] = X_validation.assign(business_code = np.where(X_validation.business_code == 'U001', 0, 1)).business_code\n",
    "X_validation.drop(columns=['due_in_date'], axis = 1, inplace = True)"
   ]
  },
  {
   "cell_type": "markdown",
   "metadata": {
    "id": "R83c6A4MIwsQ"
   },
   "source": [
    "### **FEATURE SELECTION**"
   ]
  },
  {
   "cell_type": "code",
   "execution_count": 37,
   "metadata": {
    "colab": {
     "base_uri": "https://localhost:8080/"
    },
    "id": "l0YOPKEZ5sTi",
    "outputId": "1bbb6e49-2f67-46a3-8e2a-2df6e1d43b6f"
   },
   "outputs": [
    {
     "name": "stdout",
     "output_type": "stream",
     "text": [
      "Due month          -0.03398162809808844\n",
      "Total open amount  0.006255468006694228\n",
      "Due weekday        0.013752411508583714\n",
      "Due week           -0.002477712636908808\n",
      "Invoice currency   -0.12819122062576774\n",
      "Buisness Code      0.15599693744557216\n",
      "Cust payment terms 0.10095041644475669\n",
      "Is weekend         0.013976448763670804\n"
     ]
    }
   ],
   "source": [
    "#Observing all the correlation of features with the target variable\n",
    "print(f'Due month          {X_train.due_month.corr(y_train)}')\n",
    "print(f'Total open amount  {X_train.total_open_amount.corr(y_train)}')\n",
    "print(f'Due weekday        {X_train.due_weekday.corr(y_train)}')\n",
    "print(f'Due week           {X_train.due_week.corr(y_train)}')\n",
    "print(f'Invoice currency   {X_train.invoice_currency.corr(y_train)}')\n",
    "print(f'Buisness Code      {X_train.business_code.corr(y_train)}')\n",
    "print(f'Cust payment terms {X_train.cust_payment_terms.corr(y_train)}')\n",
    "print(f'Is weekend         {X_train.isweekend.corr(y_train)}')"
   ]
  },
  {
   "cell_type": "code",
   "execution_count": 38,
   "metadata": {
    "colab": {
     "base_uri": "https://localhost:8080/",
     "height": 265
    },
    "id": "nyXvFqmEICYh",
    "outputId": "2f4dca27-cfbe-4db9-a008-5eea51285950"
   },
   "outputs": [
    {
     "data": {
      "image/png": "[encoded data removed]",
      "text/plain": [
       "<Figure size 432x288 with 1 Axes>"
      ]
     },
     "metadata": {
      "needs_background": "light"
     },
     "output_type": "display_data"
    }
   ],
   "source": [
    "#Using chi2 for observing features\n",
    "from sklearn.feature_selection import SelectKBest\n",
    "from sklearn.feature_selection import chi2\n",
    "\n",
    "bestfeatures = SelectKBest(score_func=chi2, k=8)\n",
    "fit = bestfeatures.fit(X_train, y_train)\n",
    "Featurescores = pd.Series(fit.scores_, index=X_train.columns)\n",
    "Featurescores\n",
    "Featurescores.plot(kind = 'barh')\n",
    "plt.show()"
   ]
  },
  {
   "cell_type": "markdown",
   "metadata": {
    "id": "wlZZgIxTXQBv"
   },
   "source": [
    "The values shown here is pretty dicey. But it is what it is. Lets try another feature selection technique"
   ]
  },
  {
   "cell_type": "code",
   "execution_count": 39,
   "metadata": {
    "colab": {
     "base_uri": "https://localhost:8080/",
     "height": 265
    },
    "id": "TGb-duNDO3AP",
    "outputId": "eab3e1aa-5f69-4e56-a34d-0730782267bf"
   },
   "outputs": [
    {
     "data": {
      "image/png": "[encoded data removed]",
      "text/plain": [
       "<Figure size 432x288 with 1 Axes>"
      ]
     },
     "metadata": {
      "needs_background": "light"
     },
     "output_type": "display_data"
    }
   ],
   "source": [
    "#Using RandomForestRegressor for observing features\n",
    "from sklearn.ensemble import RandomForestRegressor\n",
    "model = RandomForestRegressor(criterion='mse', n_estimators=200)\n",
    "model.fit(X_train,y_train)\n",
    "feat_importances = pd.Series(model.feature_importances_, index=X_train.columns)\n",
    "feat_importances.nlargest(8).plot(kind='barh')\n",
    "plt.show()"
   ]
  },
  {
   "cell_type": "markdown",
   "metadata": {
    "id": "4-wNf5C0Xf4H"
   },
   "source": [
    "This looks nice !"
   ]
  },
  {
   "cell_type": "markdown",
   "metadata": {
    "id": "E1K8Vekqrh-6"
   },
   "source": [
    "Observing the plots, all features except invoice currency, business code and isweekend are good. We will consider the remaining 5 features(cust_payment_terms, due_week, due_weekday, due_month, total_open_amount) for model training"
   ]
  },
  {
   "cell_type": "code",
   "execution_count": 40,
   "metadata": {
    "id": "Y-yP94RNrgEq"
   },
   "outputs": [],
   "source": [
    "#Discarding useless features\n",
    "X_train.drop(columns=['invoice_currency', 'isweekend', 'business_code'], axis = 1, inplace = True)\n",
    "X_test.drop(columns=['invoice_currency', 'isweekend', 'business_code'], axis = 1, inplace = True)\n",
    "X_validation.drop(columns=['invoice_currency', 'isweekend', 'business_code'], axis = 1, inplace = True)"
   ]
  },
  {
   "cell_type": "markdown",
   "metadata": {
    "id": "UmxvrkKV7Awj"
   },
   "source": [
    "### **MODEL TRAINING**"
   ]
  },
  {
   "cell_type": "code",
   "execution_count": 41,
   "metadata": {
    "colab": {
     "base_uri": "https://localhost:8080/"
    },
    "id": "neaF5hX9JbYk",
    "outputId": "a085b3fb-5658-4182-96cd-5d0393a38b65"
   },
   "outputs": [
    {
     "data": {
      "text/plain": [
       "RandomForestRegressor(random_state=0)"
      ]
     },
     "execution_count": 41,
     "metadata": {},
     "output_type": "execute_result"
    }
   ],
   "source": [
    "#Training the model on the RandomForestRegressor\n",
    "from sklearn.ensemble import RandomForestRegressor\n",
    "model = RandomForestRegressor(random_state=0)\n",
    "model.fit(X_train, y_train)"
   ]
  },
  {
   "cell_type": "code",
   "execution_count": 42,
   "metadata": {
    "id": "QSsuP6IjJntn"
   },
   "outputs": [],
   "source": [
    "#Creating predictions of train and validation sets\n",
    "y_pred_train = model.predict(X_train)\n",
    "y_pred_validation = model.predict(X_validation)"
   ]
  },
  {
   "cell_type": "code",
   "execution_count": 43,
   "metadata": {
    "colab": {
     "base_uri": "https://localhost:8080/"
    },
    "id": "q6LYpLCozY-p",
    "outputId": "4134123c-2fb2-4b5e-b7d1-b0800aae8c11"
   },
   "outputs": [
    {
     "name": "stdout",
     "output_type": "stream",
     "text": [
      "Train 4.491342870418137\n",
      "Validation 14.093246556670975\n"
     ]
    }
   ],
   "source": [
    "#Finding the root mean square error of train and validation sets\n",
    "from sklearn.metrics import mean_squared_error\n",
    "train_rmse = mean_squared_error(y_train, y_pred_train)**0.5\n",
    "validation_rmse = mean_squared_error(y_validation, y_pred_validation)**0.5\n",
    "print(f'Train {train_rmse}')\n",
    "print(f'Validation {validation_rmse}')"
   ]
  },
  {
   "cell_type": "markdown",
   "metadata": {
    "id": "C8XGPS6XesIj"
   },
   "source": [
    "This shows the root mean square error in delay between actual and predicted"
   ]
  },
  {
   "cell_type": "code",
   "execution_count": 44,
   "metadata": {
    "id": "JlTNnZVnT3PA"
   },
   "outputs": [],
   "source": [
    "#Function returning aging buckets\n",
    "\n",
    "'''This function categorizes the delay into age buckets and returns an array containing those age buckets'''\n",
    "\n",
    "def age_bucketer(y):\n",
    "  age_bucket = [0]*y.shape[0]\n",
    "  for i, j in enumerate(y):\n",
    "    if round(j)<16:\n",
    "      age_bucket[i] = 1\n",
    "      continue\n",
    "    if round(j) >= 16 and round(j)<31:\n",
    "      age_bucket[i] = 2\n",
    "      continue\n",
    "    if round(j) >= 31 and round(j)<46:\n",
    "      age_bucket[i] = 3\n",
    "      continue\n",
    "    if round(j) >= 46 and round(j)<60:\n",
    "      age_bucket[i] = 4\n",
    "      continue\n",
    "    else:\n",
    "      age_bucket[i] = 5\n",
    "      continue\n",
    "\n",
    "  return age_bucket  "
   ]
  },
  {
   "cell_type": "code",
   "execution_count": 45,
   "metadata": {
    "colab": {
     "base_uri": "https://localhost:8080/"
    },
    "id": "tKJKOVNrqn-A",
    "outputId": "a979799d-31c6-4e64-ae9b-fa444e100a80"
   },
   "outputs": [
    {
     "name": "stdout",
     "output_type": "stream",
     "text": [
      "Train 0.9690690988400912\n",
      "Validation 0.9288594934666882\n"
     ]
    }
   ],
   "source": [
    "#Testing Aging Bucket Accuracy\n",
    "\n",
    "'''So, we are subtracting actual and predicted columns. After subtraction, Values having 0 means, it is correctly predicted. \n",
    "Anything other than 0 means wrong prediction.\n",
    "So, we are obtaining the 0th index(values containing 0) of the array returned by value_counts on subtraction and dividing it by\n",
    "the shape[0] of y array which basically is the length y. This gives us the accuracy'''\n",
    "\n",
    "aging_bucket_actual = age_bucketer(y_train)\n",
    "aging_bucket_pred = age_bucketer(y_pred_train)\n",
    "print(f'Train {(pd.Series(aging_bucket_actual)-pd.Series(aging_bucket_pred)).value_counts()[0]/pd.Series(aging_bucket_actual).shape[0]}')\n",
    "\n",
    "aging_bucket_actual = age_bucketer(y_validation)\n",
    "aging_bucket_pred = age_bucketer(y_pred_validation)\n",
    "print(f'Validation {(pd.Series(aging_bucket_actual)-pd.Series(aging_bucket_pred)).value_counts()[0]/pd.Series(aging_bucket_actual).shape[0]}')"
   ]
  },
  {
   "cell_type": "markdown",
   "metadata": {
    "id": "0Iphu7D3X_0n"
   },
   "source": [
    "Well these are good numbers. Lets try to reach a better accuracy with hyperparameter tuning"
   ]
  },
  {
   "cell_type": "markdown",
   "metadata": {
    "id": "VtSL0LdI7XQh"
   },
   "source": [
    "### **HYPERPARAMETER TUNING**"
   ]
  },
  {
   "cell_type": "code",
   "execution_count": 46,
   "metadata": {
    "id": "uvR_s1_Pw9Th"
   },
   "outputs": [],
   "source": [
    "#Importing grid seach cross validation \n",
    "from sklearn.model_selection import GridSearchCV"
   ]
  },
  {
   "cell_type": "code",
   "execution_count": 47,
   "metadata": {
    "colab": {
     "base_uri": "https://localhost:8080/"
    },
    "id": "9TVpxHi7E4Pa",
    "outputId": "4da5df6a-9f7f-4a75-cadf-1d491e304370"
   },
   "outputs": [
    {
     "data": {
      "text/plain": [
       "[{'n_estimators': [10, 50, 75, 100],\n",
       "  'max_depth': [1, 2, 4, 5],\n",
       "  'min_samples_leaf': [1, 2],\n",
       "  'max_leaf_nodes': [1, 2]}]"
      ]
     },
     "execution_count": 47,
     "metadata": {},
     "output_type": "execute_result"
    }
   ],
   "source": [
    "#Making a matrix of hyperparameters\n",
    "parameters = [{'n_estimators': [10, 50, 75, 100],\n",
    "               'max_depth': [1,2,4,5],\n",
    "               'min_samples_leaf': [1, 2],\n",
    "               'max_leaf_nodes': [1, 2]}]\n",
    "\n",
    "parameters"
   ]
  },
  {
   "cell_type": "code",
   "execution_count": 48,
   "metadata": {
    "id": "Z3-Js4g4xCtN"
   },
   "outputs": [],
   "source": [
    "#Fitting grid search CV with the validation set\n",
    "grid_search = GridSearchCV(estimator=model, param_grid=parameters, scoring='neg_mean_squared_error', n_jobs=-1)\n",
    "grid_search = grid_search.fit(X_validation, y_validation)"
   ]
  },
  {
   "cell_type": "code",
   "execution_count": 49,
   "metadata": {
    "colab": {
     "base_uri": "https://localhost:8080/"
    },
    "id": "5biuWlorI_LN",
    "outputId": "af31d9f4-bae3-4091-e45e-a200b7ba49fd"
   },
   "outputs": [
    {
     "data": {
      "text/plain": [
       "68.68138457261108"
      ]
     },
     "execution_count": 49,
     "metadata": {},
     "output_type": "execute_result"
    }
   ],
   "source": [
    "#Finding the best mse(mean square error) score\n",
    "abs(grid_search.best_score_)"
   ]
  },
  {
   "cell_type": "code",
   "execution_count": 50,
   "metadata": {
    "colab": {
     "base_uri": "https://localhost:8080/"
    },
    "id": "5IlVZxUWJu8Y",
    "outputId": "a95053b0-4fa4-4757-c39f-3e771e206ff2"
   },
   "outputs": [
    {
     "data": {
      "text/plain": [
       "{'max_depth': 1,\n",
       " 'max_leaf_nodes': 2,\n",
       " 'min_samples_leaf': 1,\n",
       " 'n_estimators': 10}"
      ]
     },
     "execution_count": 50,
     "metadata": {},
     "output_type": "execute_result"
    }
   ],
   "source": [
    "#Finding the best hyperparameters\n",
    "grid_search.best_params_"
   ]
  },
  {
   "cell_type": "markdown",
   "metadata": {
    "id": "bbkteMu1RxBj"
   },
   "source": [
    "### **RETRAINING MODEL WITH NEW HYPERPARAMETERS**\n",
    "\n"
   ]
  },
  {
   "cell_type": "code",
   "execution_count": 51,
   "metadata": {
    "colab": {
     "base_uri": "https://localhost:8080/"
    },
    "id": "eLAc1WkZSYMj",
    "outputId": "223d231a-2955-46bb-c3ca-fab871dd9192"
   },
   "outputs": [
    {
     "data": {
      "text/plain": [
       "RandomForestRegressor(max_depth=1, max_leaf_nodes=2, n_estimators=10,\n",
       "                      random_state=0)"
      ]
     },
     "execution_count": 51,
     "metadata": {},
     "output_type": "execute_result"
    }
   ],
   "source": [
    "#Training the model on the RandomForestRegressor with new hyperparameters\n",
    "from sklearn.ensemble import RandomForestRegressor\n",
    "model = RandomForestRegressor(n_estimators=10, max_depth = 1, max_leaf_nodes=2, min_samples_leaf=1, random_state = 0)\n",
    "model.fit(X_train, y_train)"
   ]
  },
  {
   "cell_type": "code",
   "execution_count": 52,
   "metadata": {
    "id": "JdLCaI1uSEHL"
   },
   "outputs": [],
   "source": [
    "#Storing predictions of train and validation set\n",
    "y_pred_train = model.predict(X_train)\n",
    "y_pred_validation = model.predict(X_validation)"
   ]
  },
  {
   "cell_type": "code",
   "execution_count": 53,
   "metadata": {
    "colab": {
     "base_uri": "https://localhost:8080/"
    },
    "id": "OmmbjAIkSEHL",
    "outputId": "55aacd23-02ce-4bb1-b099-0dd783631658"
   },
   "outputs": [
    {
     "name": "stdout",
     "output_type": "stream",
     "text": [
      "Train 11.65249723449655\n",
      "Validation 8.26657341595179\n"
     ]
    }
   ],
   "source": [
    "#Finding the root mean square error of train and validation set\n",
    "from sklearn.metrics import mean_squared_error\n",
    "train_rmse = mean_squared_error(y_train, y_pred_train)**0.5\n",
    "validation_rmse = mean_squared_error(y_validation, y_pred_validation)**0.5\n",
    "print(f'Train {train_rmse}')\n",
    "print(f'Validation {validation_rmse}')"
   ]
  },
  {
   "cell_type": "markdown",
   "metadata": {
    "id": "0Rgrtw85B4d4"
   },
   "source": [
    "As we can see, rmse on the validation set has decreased which means our model is giving better predictions"
   ]
  },
  {
   "cell_type": "code",
   "execution_count": 54,
   "metadata": {
    "colab": {
     "base_uri": "https://localhost:8080/"
    },
    "id": "EV7o3gyASEHL",
    "outputId": "95f93e24-d90a-4da0-e551-2f7acaafe97b"
   },
   "outputs": [
    {
     "name": "stdout",
     "output_type": "stream",
     "text": [
      "Train 0.9596510359869138\n",
      "Validation 0.9658009356347798\n"
     ]
    }
   ],
   "source": [
    "#Observing Aging Bucket Accuracy\n",
    "aging_bucket_actual = age_bucketer(y_train)\n",
    "aging_bucket_pred = age_bucketer(y_pred_train)\n",
    "print(f'Train {(pd.Series(aging_bucket_actual)-pd.Series(aging_bucket_pred)).value_counts()[0]/pd.Series(aging_bucket_actual).shape[0]}')\n",
    "\n",
    "aging_bucket_actual = age_bucketer(y_validation)\n",
    "aging_bucket_pred = age_bucketer(y_pred_validation)\n",
    "print(f'Validation {(pd.Series(aging_bucket_actual)-pd.Series(aging_bucket_pred)).value_counts()[0]/pd.Series(aging_bucket_actual).shape[0]}')"
   ]
  },
  {
   "cell_type": "markdown",
   "metadata": {
    "id": "i8F16bJFCLmU"
   },
   "source": [
    "The aging bucket accuracy has also increased in the validation set"
   ]
  },
  {
   "cell_type": "markdown",
   "metadata": {
    "id": "q_pxcV9OeVIB"
   },
   "source": [
    "As our model performance has increased using these new hyperparameters, we will consider these hyperparameters"
   ]
  },
  {
   "cell_type": "markdown",
   "metadata": {
    "id": "teDyngd16ZBu"
   },
   "source": [
    "### **PREDICTION ON TEST SET**"
   ]
  },
  {
   "cell_type": "code",
   "execution_count": 55,
   "metadata": {
    "id": "1m--h7O-8FRt"
   },
   "outputs": [],
   "source": [
    "#Storing the predictions in an array\n",
    "y_pred = model.predict(X_test)"
   ]
  },
  {
   "cell_type": "code",
   "execution_count": 56,
   "metadata": {
    "colab": {
     "base_uri": "https://localhost:8080/"
    },
    "id": "UPSYZ5cw8PoY",
    "outputId": "d583c765-3566-4d66-9572-ecd3e16fca0f"
   },
   "outputs": [
    {
     "name": "stdout",
     "output_type": "stream",
     "text": [
      "Test set rmse 8.986725714672428\n"
     ]
    }
   ],
   "source": [
    "#Finding root mean square error of test set\n",
    "test_rmse = mean_squared_error(y_test, y_pred)**0.5\n",
    "print(f'Test set rmse {test_rmse}')"
   ]
  },
  {
   "cell_type": "code",
   "execution_count": 57,
   "metadata": {
    "colab": {
     "base_uri": "https://localhost:8080/"
    },
    "id": "133LDfa28iww",
    "outputId": "0ed122de-547b-4f37-a928-803716380b0b"
   },
   "outputs": [
    {
     "name": "stdout",
     "output_type": "stream",
     "text": [
      "Test Set accuracy 97.39%\n"
     ]
    }
   ],
   "source": [
    "#Observing aging bucket accuracy (rounding off the percentage)\n",
    "aging_bucket_actual = age_bucketer(y_test)\n",
    "aging_bucket_pred = age_bucketer(y_pred)\n",
    "print(f'Test Set accuracy {round(((pd.Series(aging_bucket_actual)-pd.Series(aging_bucket_pred)).value_counts()[0]/pd.Series(aging_bucket_actual).shape[0])*100, 2)}%')"
   ]
  },
  {
   "cell_type": "markdown",
   "metadata": {
    "id": "4JEyF_ehTCgE"
   },
   "source": [
    "### **PREDICTING RANDOM RESULTS FROM TEST SET**"
   ]
  },
  {
   "cell_type": "markdown",
   "metadata": {
    "id": "aZUUaGWNWM0H"
   },
   "source": [
    "Run this cell for a random prediction comparison.\n",
    "\n",
    "Note: These predictions are from the test set"
   ]
  },
  {
   "cell_type": "code",
   "execution_count": 58,
   "metadata": {
    "colab": {
     "base_uri": "https://localhost:8080/"
    },
    "id": "QLl0nebZeHny",
    "outputId": "439a951b-f2be-4710-c8bb-ec8862d3b70b"
   },
   "outputs": [
    {
     "name": "stdout",
     "output_type": "stream",
     "text": [
      "Actual    : 2020-01-22, Category = 1\n",
      "Predicted : 2020-01-25, Category = 1\n"
     ]
    }
   ],
   "source": [
    "import random\n",
    "from datetime import timedelta\n",
    "n = random.randint(0, len(y_pred)-1) #n is a random number in the range of the length of y_test\n",
    "NUM = len(y)+n  #NUM is the index of the row in the dataset df\n",
    "\n",
    "print(f'Actual    : {list(df.clear_date.dt.date)[NUM]}, Category = {aging_bucket_actual[n]}')\n",
    "print(f'Predicted : {df.due_in_date.dt.date[NUM] + timedelta(days = round(list(y_pred)[n]))}, Category = {aging_bucket_pred[n]}')\n"
   ]
  },
  {
   "cell_type": "markdown",
   "metadata": {
    "id": "SRKdehCSls1f"
   },
   "source": [
    "## **PREDICTING MISSING PAYMENT DATES**"
   ]
  },
  {
   "cell_type": "markdown",
   "metadata": {
    "id": "dE_B-9am6lBU"
   },
   "source": [
    "We have two dataframes, X_missing and missing_clear_date. We will convert X_missing into a featureset and predict its values and store it in an array. Then we will add the prediction columns and age bucket category columns in missing_clear_date dataframe."
   ]
  },
  {
   "cell_type": "code",
   "execution_count": 59,
   "metadata": {
    "id": "qtu631jAmm57"
   },
   "outputs": [],
   "source": [
    "#Converting X_missing in an X_train format.\n",
    "X_missing.drop(columns=['cust_number', 'name_customer', 'buisness_year', 'posting_date', 'document_create_date.1', 'invoice_currency', 'document type', 'baseline_create_date', 'business_code', 'clear_date'], axis = 1, inplace = True)\n",
    "X_missing['due_in_date'] = pd.to_datetime(X_missing['due_in_date'], format = '%Y%m%d')\n",
    "X_missing['total_open_amount'] = np.log(X_missing['total_open_amount']) + 2\n",
    "X_missing = X_missing.assign(cust_payment_terms = np.where(np.logical_or(X_missing.cust_payment_terms=='NAA8', X_missing.cust_payment_terms=='NAH4'), X_missing.cust_payment_terms, 3))\n",
    "X_missing = X_missing.assign(cust_payment_terms = np.where(X_missing.cust_payment_terms == 'NAH4', 2, X_missing.cust_payment_terms))\n",
    "X_missing = X_missing.assign(cust_payment_terms = np.where(X_missing.cust_payment_terms == 'NAA8', 1, X_missing.cust_payment_terms))\n",
    "X_missing.cust_payment_terms = X_missing.cust_payment_terms.map(cust_payment_terms_encoder) \n",
    "X_missing['due_month'] = pd.DatetimeIndex(X_missing['due_in_date']).month \n",
    "X_missing['due_weekday'] = X_missing.due_in_date.dt.weekday \n",
    "X_missing['due_week'] = X_missing.due_in_date.dt.day//7\n",
    "X_missing.drop(columns=['due_in_date'], axis = 1, inplace = True)"
   ]
  },
  {
   "cell_type": "code",
   "execution_count": 60,
   "metadata": {
    "id": "T2U5VMMuz0s8"
   },
   "outputs": [],
   "source": [
    "#Storing predictions of X_missing in an array astype int\n",
    "y_missing = model.predict(X_missing)\n",
    "y_missing = y_missing.round().astype(int)"
   ]
  },
  {
   "cell_type": "code",
   "execution_count": 61,
   "metadata": {
    "id": "aljGee_52jmG"
   },
   "outputs": [],
   "source": [
    "#Typecasting due_in_date column of missing_clear_date into datetime.\n",
    "missing_clear_date['due_in_date'] = pd.to_datetime(missing_clear_date['due_in_date'], format = '%Y%m%d')"
   ]
  },
  {
   "cell_type": "code",
   "execution_count": 62,
   "metadata": {
    "id": "E4Pq6Rxb0N-J"
   },
   "outputs": [],
   "source": [
    "#Storing predicted clear Date by adding our predicted delay and due date and storing it in an array.\n",
    "predicted = []\n",
    "for i in range(len(y_missing)):\n",
    "  predicted.append(list(missing_clear_date.due_in_date)[i]+timedelta(days=int(y_missing[i])))"
   ]
  },
  {
   "cell_type": "code",
   "execution_count": 63,
   "metadata": {
    "id": "wbc8gp2YpIVA"
   },
   "outputs": [],
   "source": [
    "#Adding Predicted clear date column in our dataframe missing_clear_date with predicted date values\n",
    "missing_clear_date['Predicted clear date'] = predicted"
   ]
  },
  {
   "cell_type": "code",
   "execution_count": 64,
   "metadata": {
    "id": "al2L6Sivr19N"
   },
   "outputs": [],
   "source": [
    "#Creating aging bucket based on delay\n",
    "age_bucket_missing = age_bucketer(y_missing)"
   ]
  },
  {
   "cell_type": "code",
   "execution_count": 65,
   "metadata": {
    "id": "6-CEpAfKr6s6"
   },
   "outputs": [],
   "source": [
    "#Adding the column Age Bucket in our dataframe which holds the values of the age buckets\n",
    "missing_clear_date['Age Bucket'] = age_bucket_missing"
   ]
  },
  {
   "cell_type": "code",
   "execution_count": 66,
   "metadata": {},
   "outputs": [],
   "source": [
    "Age_dict = {1: '0-15 days',\n",
    "            2: '16-30 days',\n",
    "            3: '31-45 days',\n",
    "            4: '45-60 days',\n",
    "            5: 'More than 60 days'}"
   ]
  },
  {
   "cell_type": "code",
   "execution_count": 67,
   "metadata": {},
   "outputs": [],
   "source": [
    "missing_clear_date['Age Bucket'] = missing_clear_date['Age Bucket'].map(Age_dict)"
   ]
  },
  {
   "cell_type": "code",
   "execution_count": 68,
   "metadata": {
    "colab": {
     "base_uri": "https://localhost:8080/",
     "height": 634
    },
    "id": "YcD8W7Rxr8Z7",
    "outputId": "6660e3fa-eeaf-4d18-863e-7b3a2193be9d"
   },
   "outputs": [
    {
     "data": {
      "text/html": [
       "<div>\n",
       "<style scoped>\n",
       "    .dataframe tbody tr th:only-of-type {\n",
       "        vertical-align: middle;\n",
       "    }\n",
       "\n",
       "    .dataframe tbody tr th {\n",
       "        vertical-align: top;\n",
       "    }\n",
       "\n",
       "    .dataframe thead th {\n",
       "        text-align: right;\n",
       "    }\n",
       "</style>\n",
       "<table border=\"1\" class=\"dataframe\">\n",
       "  <thead>\n",
       "    <tr style=\"text-align: right;\">\n",
       "      <th></th>\n",
       "      <th>business_code</th>\n",
       "      <th>cust_number</th>\n",
       "      <th>name_customer</th>\n",
       "      <th>clear_date</th>\n",
       "      <th>buisness_year</th>\n",
       "      <th>posting_date</th>\n",
       "      <th>document_create_date.1</th>\n",
       "      <th>due_in_date</th>\n",
       "      <th>invoice_currency</th>\n",
       "      <th>document type</th>\n",
       "      <th>total_open_amount</th>\n",
       "      <th>baseline_create_date</th>\n",
       "      <th>cust_payment_terms</th>\n",
       "      <th>Predicted clear date</th>\n",
       "      <th>Age Bucket</th>\n",
       "    </tr>\n",
       "  </thead>\n",
       "  <tbody>\n",
       "    <tr>\n",
       "      <th>45576</th>\n",
       "      <td>U001</td>\n",
       "      <td>0200769623</td>\n",
       "      <td>WAL-MAR corp</td>\n",
       "      <td>NaN</td>\n",
       "      <td>2020.0</td>\n",
       "      <td>2020-04-02</td>\n",
       "      <td>20200402</td>\n",
       "      <td>2020-04-17</td>\n",
       "      <td>USD</td>\n",
       "      <td>RV</td>\n",
       "      <td>62935.24</td>\n",
       "      <td>20200402.0</td>\n",
       "      <td>NAH4</td>\n",
       "      <td>2020-04-15</td>\n",
       "      <td>0-15 days</td>\n",
       "    </tr>\n",
       "    <tr>\n",
       "      <th>45577</th>\n",
       "      <td>U001</td>\n",
       "      <td>0200126819</td>\n",
       "      <td>MCLANE trust</td>\n",
       "      <td>NaN</td>\n",
       "      <td>2020.0</td>\n",
       "      <td>2020-02-28</td>\n",
       "      <td>20200228</td>\n",
       "      <td>2020-03-14</td>\n",
       "      <td>USD</td>\n",
       "      <td>RV</td>\n",
       "      <td>26266.00</td>\n",
       "      <td>20200228.0</td>\n",
       "      <td>NAA8</td>\n",
       "      <td>2020-03-16</td>\n",
       "      <td>0-15 days</td>\n",
       "    </tr>\n",
       "    <tr>\n",
       "      <th>45578</th>\n",
       "      <td>U001</td>\n",
       "      <td>0200920735</td>\n",
       "      <td>ALBERT trust</td>\n",
       "      <td>NaN</td>\n",
       "      <td>2020.0</td>\n",
       "      <td>2020-03-31</td>\n",
       "      <td>20200331</td>\n",
       "      <td>2020-04-15</td>\n",
       "      <td>USD</td>\n",
       "      <td>RV</td>\n",
       "      <td>72251.82</td>\n",
       "      <td>20200331.0</td>\n",
       "      <td>NAA8</td>\n",
       "      <td>2020-04-17</td>\n",
       "      <td>0-15 days</td>\n",
       "    </tr>\n",
       "    <tr>\n",
       "      <th>45579</th>\n",
       "      <td>U001</td>\n",
       "      <td>0200769623</td>\n",
       "      <td>WAL-MAR us</td>\n",
       "      <td>NaN</td>\n",
       "      <td>2020.0</td>\n",
       "      <td>2020-03-23</td>\n",
       "      <td>20200323</td>\n",
       "      <td>2020-04-07</td>\n",
       "      <td>USD</td>\n",
       "      <td>RV</td>\n",
       "      <td>2373.96</td>\n",
       "      <td>20200323.0</td>\n",
       "      <td>NAH4</td>\n",
       "      <td>2020-04-05</td>\n",
       "      <td>0-15 days</td>\n",
       "    </tr>\n",
       "    <tr>\n",
       "      <th>45580</th>\n",
       "      <td>U001</td>\n",
       "      <td>0200749225</td>\n",
       "      <td>SUPER  associates</td>\n",
       "      <td>NaN</td>\n",
       "      <td>2020.0</td>\n",
       "      <td>2020-04-27</td>\n",
       "      <td>20200427</td>\n",
       "      <td>2020-05-12</td>\n",
       "      <td>USD</td>\n",
       "      <td>RV</td>\n",
       "      <td>66844.80</td>\n",
       "      <td>20200427.0</td>\n",
       "      <td>NAA8</td>\n",
       "      <td>2020-05-14</td>\n",
       "      <td>0-15 days</td>\n",
       "    </tr>\n",
       "    <tr>\n",
       "      <th>...</th>\n",
       "      <td>...</td>\n",
       "      <td>...</td>\n",
       "      <td>...</td>\n",
       "      <td>...</td>\n",
       "      <td>...</td>\n",
       "      <td>...</td>\n",
       "      <td>...</td>\n",
       "      <td>...</td>\n",
       "      <td>...</td>\n",
       "      <td>...</td>\n",
       "      <td>...</td>\n",
       "      <td>...</td>\n",
       "      <td>...</td>\n",
       "      <td>...</td>\n",
       "      <td>...</td>\n",
       "    </tr>\n",
       "    <tr>\n",
       "      <th>49995</th>\n",
       "      <td>U001</td>\n",
       "      <td>0200794332</td>\n",
       "      <td>COST associates</td>\n",
       "      <td>NaN</td>\n",
       "      <td>2020.0</td>\n",
       "      <td>2020-03-25</td>\n",
       "      <td>20200325</td>\n",
       "      <td>2020-04-09</td>\n",
       "      <td>USD</td>\n",
       "      <td>RV</td>\n",
       "      <td>10094.26</td>\n",
       "      <td>20200325.0</td>\n",
       "      <td>NAAX</td>\n",
       "      <td>2020-04-11</td>\n",
       "      <td>0-15 days</td>\n",
       "    </tr>\n",
       "    <tr>\n",
       "      <th>49996</th>\n",
       "      <td>U001</td>\n",
       "      <td>0200769623</td>\n",
       "      <td>WAL-MAR llc</td>\n",
       "      <td>NaN</td>\n",
       "      <td>2020.0</td>\n",
       "      <td>2020-04-23</td>\n",
       "      <td>20200423</td>\n",
       "      <td>2020-05-08</td>\n",
       "      <td>USD</td>\n",
       "      <td>RV</td>\n",
       "      <td>183.85</td>\n",
       "      <td>20200423.0</td>\n",
       "      <td>NAH4</td>\n",
       "      <td>2020-05-06</td>\n",
       "      <td>0-15 days</td>\n",
       "    </tr>\n",
       "    <tr>\n",
       "      <th>49997</th>\n",
       "      <td>U001</td>\n",
       "      <td>0200726979</td>\n",
       "      <td>BJ'S  foundation</td>\n",
       "      <td>NaN</td>\n",
       "      <td>2020.0</td>\n",
       "      <td>2020-05-04</td>\n",
       "      <td>20200504</td>\n",
       "      <td>2020-05-19</td>\n",
       "      <td>USD</td>\n",
       "      <td>RV</td>\n",
       "      <td>139.26</td>\n",
       "      <td>20200504.0</td>\n",
       "      <td>NAA8</td>\n",
       "      <td>2020-05-21</td>\n",
       "      <td>0-15 days</td>\n",
       "    </tr>\n",
       "    <tr>\n",
       "      <th>49998</th>\n",
       "      <td>U001</td>\n",
       "      <td>0200769623</td>\n",
       "      <td>WAL-MAR llc</td>\n",
       "      <td>NaN</td>\n",
       "      <td>2020.0</td>\n",
       "      <td>2020-04-28</td>\n",
       "      <td>20200428</td>\n",
       "      <td>2020-05-13</td>\n",
       "      <td>USD</td>\n",
       "      <td>RV</td>\n",
       "      <td>5752.50</td>\n",
       "      <td>20200428.0</td>\n",
       "      <td>NAH4</td>\n",
       "      <td>2020-05-11</td>\n",
       "      <td>0-15 days</td>\n",
       "    </tr>\n",
       "    <tr>\n",
       "      <th>49999</th>\n",
       "      <td>U001</td>\n",
       "      <td>0200769623</td>\n",
       "      <td>WAL-MAR co</td>\n",
       "      <td>NaN</td>\n",
       "      <td>2020.0</td>\n",
       "      <td>2020-04-24</td>\n",
       "      <td>20200424</td>\n",
       "      <td>2020-05-09</td>\n",
       "      <td>USD</td>\n",
       "      <td>RV</td>\n",
       "      <td>3916.36</td>\n",
       "      <td>20200424.0</td>\n",
       "      <td>NAH4</td>\n",
       "      <td>2020-05-07</td>\n",
       "      <td>0-15 days</td>\n",
       "    </tr>\n",
       "  </tbody>\n",
       "</table>\n",
       "<p>4424 rows × 15 columns</p>\n",
       "</div>"
      ],
      "text/plain": [
       "      business_code cust_number      name_customer clear_date  buisness_year  \\\n",
       "45576          U001  0200769623       WAL-MAR corp        NaN         2020.0   \n",
       "45577          U001  0200126819       MCLANE trust        NaN         2020.0   \n",
       "45578          U001  0200920735       ALBERT trust        NaN         2020.0   \n",
       "45579          U001  0200769623         WAL-MAR us        NaN         2020.0   \n",
       "45580          U001  0200749225  SUPER  associates        NaN         2020.0   \n",
       "...             ...         ...                ...        ...            ...   \n",
       "49995          U001  0200794332    COST associates        NaN         2020.0   \n",
       "49996          U001  0200769623        WAL-MAR llc        NaN         2020.0   \n",
       "49997          U001  0200726979   BJ'S  foundation        NaN         2020.0   \n",
       "49998          U001  0200769623        WAL-MAR llc        NaN         2020.0   \n",
       "49999          U001  0200769623         WAL-MAR co        NaN         2020.0   \n",
       "\n",
       "      posting_date  document_create_date.1 due_in_date invoice_currency  \\\n",
       "45576   2020-04-02                20200402  2020-04-17              USD   \n",
       "45577   2020-02-28                20200228  2020-03-14              USD   \n",
       "45578   2020-03-31                20200331  2020-04-15              USD   \n",
       "45579   2020-03-23                20200323  2020-04-07              USD   \n",
       "45580   2020-04-27                20200427  2020-05-12              USD   \n",
       "...            ...                     ...         ...              ...   \n",
       "49995   2020-03-25                20200325  2020-04-09              USD   \n",
       "49996   2020-04-23                20200423  2020-05-08              USD   \n",
       "49997   2020-05-04                20200504  2020-05-19              USD   \n",
       "49998   2020-04-28                20200428  2020-05-13              USD   \n",
       "49999   2020-04-24                20200424  2020-05-09              USD   \n",
       "\n",
       "      document type  total_open_amount  baseline_create_date  \\\n",
       "45576            RV           62935.24            20200402.0   \n",
       "45577            RV           26266.00            20200228.0   \n",
       "45578            RV           72251.82            20200331.0   \n",
       "45579            RV            2373.96            20200323.0   \n",
       "45580            RV           66844.80            20200427.0   \n",
       "...             ...                ...                   ...   \n",
       "49995            RV           10094.26            20200325.0   \n",
       "49996            RV             183.85            20200423.0   \n",
       "49997            RV             139.26            20200504.0   \n",
       "49998            RV            5752.50            20200428.0   \n",
       "49999            RV            3916.36            20200424.0   \n",
       "\n",
       "      cust_payment_terms Predicted clear date Age Bucket  \n",
       "45576               NAH4           2020-04-15  0-15 days  \n",
       "45577               NAA8           2020-03-16  0-15 days  \n",
       "45578               NAA8           2020-04-17  0-15 days  \n",
       "45579               NAH4           2020-04-05  0-15 days  \n",
       "45580               NAA8           2020-05-14  0-15 days  \n",
       "...                  ...                  ...        ...  \n",
       "49995               NAAX           2020-04-11  0-15 days  \n",
       "49996               NAH4           2020-05-06  0-15 days  \n",
       "49997               NAA8           2020-05-21  0-15 days  \n",
       "49998               NAH4           2020-05-11  0-15 days  \n",
       "49999               NAH4           2020-05-07  0-15 days  \n",
       "\n",
       "[4424 rows x 15 columns]"
      ]
     },
     "execution_count": 68,
     "metadata": {},
     "output_type": "execute_result"
    }
   ],
   "source": [
    "#Final Dataframe, as per our usecase\n",
    "missing_clear_date"
   ]
  }
 ],
 "metadata": {
  "colab": {
   "collapsed_sections": [
    "IWKb7dnKdHbh",
    "RMPUsYKKZjKi",
    "3HKR37S-lunu",
    "4xWqpP_HT0fw",
    "R83c6A4MIwsQ",
    "VtSL0LdI7XQh",
    "4JEyF_ehTCgE",
    "SRKdehCSls1f"
   ],
   "name": "1806294_Lex_Luthor_FINAL.ipynb",
   "provenance": []
  },
  "kernelspec": {
   "display_name": "Python 3 (ipykernel)",
   "language": "python",
   "name": "python3"
  },
  "language_info": {
   "codemirror_mode": {
    "name": "ipython",
    "version": 3
   },
   "file_extension": ".py",
   "mimetype": "text/x-python",
   "name": "python",
   "nbconvert_exporter": "python",
   "pygments_lexer": "ipython3",
   "version": "3.9.7"
  }
 },
 "nbformat": 4,
 "nbformat_minor": 1
}
